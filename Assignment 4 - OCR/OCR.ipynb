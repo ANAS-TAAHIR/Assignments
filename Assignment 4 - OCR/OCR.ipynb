{
 "cells": [
  {
   "attachments": {},
   "cell_type": "markdown",
   "metadata": {},
   "source": [
    "# OCR SYSTEM"
   ]
  },
  {
   "attachments": {},
   "cell_type": "markdown",
   "metadata": {},
   "source": [
    "#### Import Libraries"
   ]
  },
  {
   "cell_type": "code",
   "execution_count": 1,
   "metadata": {},
   "outputs": [],
   "source": [
    "%matplotlib inline\n",
    "import numpy as np\n",
    "from matplotlib import pyplot as plt\n",
    "import pandas as pd"
   ]
  },
  {
   "attachments": {},
   "cell_type": "markdown",
   "metadata": {},
   "source": [
    "#### Import sample images"
   ]
  },
  {
   "cell_type": "code",
   "execution_count": 2,
   "metadata": {},
   "outputs": [
    {
     "data": {
      "image/png": "[encoded data removed]",
      "text/plain": [
       "<Figure size 640x480 with 2 Axes>"
      ]
     },
     "metadata": {},
     "output_type": "display_data"
    }
   ],
   "source": [
    "img2=np.array([0,0,0,0,0,0,0,0,0,0,0,0,0,0,0,0,0,0,1,1,1,0,0,0,0,0,0,0,0,0,0,0,0,1,1,0,0,0,0,0,0,0,0,\n",
    "0,0,1,0,0,1,0,0,0,0,0,0,0,0,0,0,0,1,1,0,0,1,0,0,0,0,0,0,0,0,0,0,0,1,1,0,0,1,0,0,0,0,0,0,0,0,0,0,0,1,\n",
    "1,1,0,1,0,0,0,0,0,0,0,0,0,0,1,1,0,1,0,1,0,0,0,0,0,0,0,0,0,0,1,0,0,1,0,1,0,0,0,0,0,0,0,0,0,1,0,0,0,1,\n",
    "0,1,1,1,1,1,1,1,1,1,1,1,0,0,0,1,1,0,0,0,0,0,0,0,0,0,0,0,0,0,0,0,1,0,0,0,0,0,0,0,0,0,0,0,0,0,0,0,1,0,\n",
    "0,0,0,0,0,0,0,0,0,0,0,0,0,0,1,0,0,0,0,0,0,0,0,0,0,0,0,0,0,0,1,0,0,0,0,0,0,0,0,0,0,0,0,0,0,0,1,0,0,0,\n",
    "0,0,0,0,0,0,0,0,0,0,0,0,0],dtype=np.uint8)\n",
    "\n",
    "img4=np.array([0,0,0,0,0,0,0,0,0,0,0,0,0,0,0,0,0,0,0,0,0,0,0,0,0,0,0,0,0,0,0,0,0,0,0,0,0,0,0,1,0,0,0,\n",
    "0,0,0,0,0,1,1,1,1,1,1,1,1,0,0,0,0,0,0,0,0,0,0,0,0,0,0,0,1,0,0,0,0,0,0,0,1,0,0,0,0,0,0,0,1,0,0,0,0,0,\n",
    "1,1,1,0,0,0,0,0,0,1,0,0,0,1,1,1,0,0,0,0,0,0,0,0,0,1,0,0,1,1,0,0,0,0,0,0,0,0,0,0,0,1,1,1,0,0,0,0,0,0,\n",
    "0,0,1,1,1,1,1,1,0,0,0,0,0,0,0,0,0,1,1,0,0,0,1,0,0,0,0,0,0,0,0,0,0,0,0,0,0,0,1,0,0,0,0,0,0,0,0,0,0,0,\n",
    "0,0,0,1,1,0,0,0,0,0,0,0,0,0,0,0,0,0,0,0,1,0,0,0,0,0,0,0,0,0,0,0,0,0,0,0,0,0,0,0,0,0,0,0,0,0,0,0,0,0,\n",
    "0,0,0,0,0,0,0,0,0,0,0,0,0],dtype=np.uint8)\n",
    "\n",
    "img = np.reshape(img4,(16,16),order= 'F')\n",
    "img1 = np.reshape(img2,(16,16),order= 'F')\n",
    "\n",
    "fig, axes = plt.subplots(1, 2)\n",
    "axes[0].imshow(img)\n",
    "axes[0].set_title('Image of 4')\n",
    "axes[1].imshow(img1)\n",
    "axes[1].set_title('Image of 2')\n",
    "\n",
    "plt.tight_layout()\n",
    "\n",
    "plt.show()"
   ]
  },
  {
   "attachments": {},
   "cell_type": "markdown",
   "metadata": {},
   "source": [
    "## Import Data from the Files"
   ]
  },
  {
   "attachments": {},
   "cell_type": "markdown",
   "metadata": {},
   "source": [
    "#### Training Data"
   ]
  },
  {
   "cell_type": "code",
   "execution_count": 3,
   "metadata": {},
   "outputs": [
    {
     "name": "stdout",
     "output_type": "stream",
     "text": [
      "(500, 256)\n",
      "(500,)\n"
     ]
    }
   ],
   "source": [
    "#Your code here\n",
    "trainX = np.loadtxt('trainX.txt')\n",
    "trainY = np.loadtxt('trainY.txt')\n",
    "print(trainX.shape)\n",
    "print(trainY.shape)"
   ]
  },
  {
   "attachments": {},
   "cell_type": "markdown",
   "metadata": {},
   "source": [
    "Expected Output <br>\n",
    "- Shape of X_train : (500, 256) <br>\n",
    "- Shape of y_train : (500,)"
   ]
  },
  {
   "attachments": {},
   "cell_type": "markdown",
   "metadata": {},
   "source": [
    "### Testing Data"
   ]
  },
  {
   "cell_type": "code",
   "execution_count": 4,
   "metadata": {},
   "outputs": [
    {
     "name": "stdout",
     "output_type": "stream",
     "text": [
      "(100, 256)\n",
      "(100,)\n"
     ]
    }
   ],
   "source": [
    "#Your code here\n",
    "testX = np.loadtxt('testX.txt')\n",
    "testY = np.loadtxt('testY.txt')\n",
    "print(testX.shape)\n",
    "print(testY.shape)"
   ]
  },
  {
   "attachments": {},
   "cell_type": "markdown",
   "metadata": {},
   "source": [
    "Expected Output <br>\n",
    "- Shape of X_train : (100, 256) <br>\n",
    "- Shape of y_train : (100,)\n"
   ]
  },
  {
   "attachments": {},
   "cell_type": "markdown",
   "metadata": {},
   "source": [
    "### Dividing Data W.R.T its Classes"
   ]
  },
  {
   "attachments": {},
   "cell_type": "markdown",
   "metadata": {},
   "source": [
    "##### Training Data"
   ]
  },
  {
   "cell_type": "code",
   "execution_count": 5,
   "metadata": {},
   "outputs": [],
   "source": [
    "#AS we know first 250 images are of 2 so we will take first 250 images from X_train\n",
    "#your code here\n",
    "img2_X_train = trainX[:250]\n",
    "img4_X_train = trainX[250:]"
   ]
  },
  {
   "attachments": {},
   "cell_type": "markdown",
   "metadata": {},
   "source": [
    "##### Another way\n",
    "You can coment the below code if you dont want to try this effective way and will use the above code to divide the data into classes"
   ]
  },
  {
   "cell_type": "code",
   "execution_count": 6,
   "metadata": {},
   "outputs": [
    {
     "name": "stdout",
     "output_type": "stream",
     "text": [
      "(250, 256)\n",
      "(250, 256)\n"
     ]
    }
   ],
   "source": [
    "#But in case if we didn't know that first 250 images are of 2 then we can use this code\n",
    "#This img2_X_train will contain only only those images from X_train which have corespondong label of 2 in Y_train\n",
    "print(img2_X_train.shape)\n",
    "print(img4_X_train.shape)"
   ]
  },
  {
   "attachments": {},
   "cell_type": "markdown",
   "metadata": {},
   "source": [
    "Expected Output <br>\n",
    "- Shape of X_train : (250, 256) <br>\n",
    "- Shape of y_train : (250, 256)\n"
   ]
  },
  {
   "attachments": {},
   "cell_type": "markdown",
   "metadata": {},
   "source": [
    "##### Testing Data"
   ]
  },
  {
   "cell_type": "code",
   "execution_count": 7,
   "metadata": {},
   "outputs": [
    {
     "name": "stdout",
     "output_type": "stream",
     "text": [
      "(50, 256)\n",
      "(50, 256)\n"
     ]
    }
   ],
   "source": [
    "# Your code here\n",
    "\n",
    "img2_X_test = testX[:50]\n",
    "img4_X_test = testX[50:]\n",
    "print(img2_X_test.shape)\n",
    "print(img4_X_test.shape)"
   ]
  },
  {
   "attachments": {},
   "cell_type": "markdown",
   "metadata": {},
   "source": [
    "Expected Output <br>\n",
    "- Shape of X_train : (50, 256) <br>\n",
    "- Shape of y_train : (50, 256)\n"
   ]
  },
  {
   "attachments": {},
   "cell_type": "markdown",
   "metadata": {},
   "source": [
    "### Finding the Probabilities"
   ]
  },
  {
   "attachments": {},
   "cell_type": "markdown",
   "metadata": {},
   "source": [
    "### Training Data"
   ]
  },
  {
   "attachments": {},
   "cell_type": "markdown",
   "metadata": {},
   "source": [
    "##### Probabailty of 1s and 0s"
   ]
  },
  {
   "cell_type": "code",
   "execution_count": 8,
   "metadata": {},
   "outputs": [
    {
     "name": "stdout",
     "output_type": "stream",
     "text": [
      "(256,)\n",
      "(256,)\n",
      "(256,)\n",
      "(256,)\n"
     ]
    }
   ],
   "source": [
    "#Your code here\n",
    "img2_one_prob = (np.sum(img2_X_train,axis=0) + 1)/(len(img2_X_train) + 2) \n",
    "img2_zero_prob = 1 - img2_one_prob\n",
    "img4_one_prob = (np.sum(img4_X_train,axis=0) + 1)/(len(img2_X_train) + 2)\n",
    "img4_zero_prob = 1 - img4_one_prob\n",
    "\n",
    "print(img2_one_prob.shape)\n",
    "print(img2_zero_prob.shape)\n",
    "print(img4_one_prob.shape)\n",
    "print(img4_zero_prob.shape)"
   ]
  },
  {
   "attachments": {},
   "cell_type": "markdown",
   "metadata": {},
   "source": [
    "Expected Output <br>\n",
    "- (256,)\n",
    "- (256,)\n",
    "- (256,)\n",
    "- (256,)\n"
   ]
  },
  {
   "attachments": {},
   "cell_type": "markdown",
   "metadata": {},
   "source": [
    "#### Class Probabilities"
   ]
  },
  {
   "cell_type": "code",
   "execution_count": 9,
   "metadata": {},
   "outputs": [],
   "source": [
    "# Your code here\n",
    "# class probability\n",
    "img2_class_prob = 250/500\n",
    "img4_class_prob = 250/500"
   ]
  },
  {
   "attachments": {},
   "cell_type": "markdown",
   "metadata": {},
   "source": [
    "#### Predictions"
   ]
  },
  {
   "cell_type": "code",
   "execution_count": 10,
   "metadata": {},
   "outputs": [
    {
     "data": {
      "text/plain": [
       "array([2, 2, 2, 2, 2, 2, 2, 2, 2, 2, 2, 2, 2, 2, 2, 2, 2, 2, 2, 2, 2, 2,\n",
       "       2, 2, 2, 2, 2, 2, 2, 2, 2, 2, 2, 2, 2, 2, 2, 2, 2, 2, 2, 2, 2, 2,\n",
       "       2, 2, 2, 2, 2, 2, 2, 2, 2, 2, 2, 2, 2, 2, 2, 2, 2, 2, 2, 2, 2, 2,\n",
       "       2, 2, 2, 2, 2, 2, 2, 2, 2, 2, 2, 2, 2, 2, 2, 2, 2, 2, 2, 2, 2, 2,\n",
       "       2, 2, 2, 2, 2, 2, 2, 2, 2, 2, 2, 2, 2, 2, 4, 2, 2, 2, 2, 2, 2, 2,\n",
       "       2, 2, 2, 2, 2, 2, 2, 2, 2, 2, 2, 2, 2, 2, 2, 2, 2, 2, 2, 2, 2, 2,\n",
       "       2, 2, 4, 2, 4, 2, 2, 2, 2, 2, 2, 2, 2, 2, 2, 2, 2, 4, 2, 2, 2, 2,\n",
       "       2, 2, 2, 2, 2, 2, 2, 2, 2, 2, 2, 2, 2, 2, 2, 2, 2, 2, 2, 2, 2, 2,\n",
       "       2, 2, 2, 2, 2, 2, 2, 2, 2, 2, 2, 2, 2, 2, 2, 2, 2, 2, 2, 2, 2, 2,\n",
       "       2, 2, 2, 2, 2, 2, 2, 2, 2, 2, 2, 2, 2, 2, 2, 2, 2, 2, 2, 2, 2, 2,\n",
       "       2, 2, 2, 2, 2, 2, 2, 2, 2, 2, 2, 2, 2, 2, 2, 2, 2, 2, 2, 2, 2, 2,\n",
       "       2, 2, 2, 2, 2, 2, 2, 2, 4, 4, 4, 4, 4, 4, 4, 4, 4, 4, 4, 4, 4, 4,\n",
       "       4, 4, 4, 4, 4, 4, 4, 4, 4, 4, 4, 4, 4, 4, 4, 4, 4, 4, 4, 2, 4, 4,\n",
       "       4, 4, 4, 4, 4, 4, 4, 4, 4, 4, 4, 4, 4, 4, 4, 4, 4, 4, 4, 4, 4, 4,\n",
       "       4, 4, 4, 4, 4, 4, 4, 4, 4, 4, 4, 4, 4, 4, 4, 4, 4, 4, 4, 4, 4, 4,\n",
       "       4, 4, 4, 4, 4, 4, 4, 4, 4, 4, 4, 4, 4, 4, 4, 4, 4, 4, 4, 4, 4, 4,\n",
       "       4, 4, 4, 4, 4, 4, 4, 4, 4, 4, 4, 4, 4, 4, 4, 4, 4, 4, 4, 4, 4, 4,\n",
       "       4, 4, 4, 4, 4, 4, 4, 4, 4, 2, 4, 4, 4, 4, 4, 4, 4, 4, 4, 4, 4, 4,\n",
       "       4, 4, 4, 4, 4, 4, 4, 4, 4, 4, 4, 4, 4, 4, 4, 4, 4, 4, 4, 4, 4, 4,\n",
       "       4, 4, 4, 4, 4, 4, 4, 4, 4, 4, 4, 4, 4, 4, 4, 4, 4, 4, 4, 4, 4, 4,\n",
       "       4, 4, 4, 4, 4, 4, 4, 4, 4, 4, 4, 4, 4, 4, 4, 4, 4, 4, 4, 4, 4, 4,\n",
       "       4, 4, 4, 4, 4, 4, 4, 4, 4, 4, 4, 4, 4, 4, 4, 4, 4, 4, 4, 4, 4, 4,\n",
       "       4, 4, 4, 4, 4, 4, 4, 4, 4, 4, 4, 4, 4, 4, 4, 4])"
      ]
     },
     "execution_count": 10,
     "metadata": {},
     "output_type": "execute_result"
    }
   ],
   "source": [
    "# Your code here\n",
    "def calculate_predictions(trainX, one_prob, zero_prob, class_prob):\n",
    "    return np.prod(np.where(trainX == 1, one_prob, zero_prob), axis=1) * class_prob\n",
    "\n",
    "pred_2 = calculate_predictions(trainX, img2_one_prob, img2_zero_prob, img2_class_prob)\n",
    "pred_4 = calculate_predictions(trainX, img4_one_prob, img4_zero_prob, img4_class_prob)\n",
    "\n",
    "train_predictions = np.where(pred_2 > pred_4, 2, 4)\n",
    "train_predictions"
   ]
  },
  {
   "attachments": {},
   "cell_type": "markdown",
   "metadata": {},
   "source": [
    "#### Overall Accuracy"
   ]
  },
  {
   "cell_type": "code",
   "execution_count": 11,
   "metadata": {},
   "outputs": [
    {
     "name": "stdout",
     "output_type": "stream",
     "text": [
      "Predicted    2    4\n",
      "Actual             \n",
      "2          246    4\n",
      "4            2  248\n",
      "\n",
      "Overall Accuracy =  0.988\n"
     ]
    }
   ],
   "source": [
    "# Your code here\n",
    "\n",
    "confusion_matrix = pd.crosstab(trainY.astype(int), train_predictions, rownames=['Actual'], colnames=['Predicted'])\n",
    "print(confusion_matrix)\n",
    "overall_Accuracy = np.sum(np.diag(confusion_matrix))/np.sum(np.sum(confusion_matrix.values))\n",
    "\n",
    "print(\"\\nOverall Accuracy = \", overall_Accuracy)"
   ]
  },
  {
   "attachments": {},
   "cell_type": "markdown",
   "metadata": {},
   "source": [
    "Expected Output \n",
    "<br><br>\n",
    "**Confusion Matrix**\n",
    "<br>\n",
    "TP =  248 \tFP =  4\n",
    "<br>\n",
    "FN =  2 \tTN =  246\n",
    "<br>\n",
    "- Overall Accuracy =  0.988"
   ]
  },
  {
   "attachments": {},
   "cell_type": "markdown",
   "metadata": {},
   "source": [
    "#### Classwise Accuracy"
   ]
  },
  {
   "cell_type": "code",
   "execution_count": 12,
   "metadata": {},
   "outputs": [
    {
     "name": "stdout",
     "output_type": "stream",
     "text": [
      "Total accuracy of Training data given class 2:  0.984\n",
      "Total accuracy of Training data given class 4:  0.992\n"
     ]
    }
   ],
   "source": [
    "# Your code here\n",
    "class2_train_total_accuracy = confusion_matrix.iloc[0,0]/np.sum(confusion_matrix.iloc[0])\n",
    "class4_train_total_accuracy = confusion_matrix.iloc[1,1]/np.sum(confusion_matrix.iloc[1])\n",
    "\n",
    "\n",
    "print(\"Total accuracy of Training data given class 2: \", class2_train_total_accuracy)\n",
    "print(\"Total accuracy of Training data given class 4: \" , class4_train_total_accuracy)"
   ]
  },
  {
   "attachments": {},
   "cell_type": "markdown",
   "metadata": {},
   "source": [
    "Expected Output <br>\n",
    "\n",
    "- Total accuracy of Training data given class 2:  0.984\n",
    "<br>\n",
    "- Total accuracy of Training data given class 4:  0.992"
   ]
  },
  {
   "attachments": {},
   "cell_type": "markdown",
   "metadata": {},
   "source": [
    "### FOR TESTING DATA"
   ]
  },
  {
   "attachments": {},
   "cell_type": "markdown",
   "metadata": {},
   "source": [
    "##### Probabailty of 1s and 0s"
   ]
  },
  {
   "cell_type": "code",
   "execution_count": 13,
   "metadata": {},
   "outputs": [
    {
     "name": "stdout",
     "output_type": "stream",
     "text": [
      "(256,)\n",
      "(256,)\n",
      "(256,)\n",
      "(256,)\n"
     ]
    }
   ],
   "source": [
    "img2_one_prob = (np.sum(img2_X_test,axis=0) + 1)/(len(img2_X_test) + 2) \n",
    "img2_zero_prob = 1 - img2_one_prob\n",
    "img4_one_prob = (np.sum(img4_X_test,axis=0) + 1)/(len(img4_X_test) + 2)\n",
    "img4_zero_prob = 1 - img4_one_prob\n",
    "\n",
    "print(img2_one_prob.shape)\n",
    "print(img2_zero_prob.shape)\n",
    "print(img4_one_prob.shape)\n",
    "print(img4_zero_prob.shape)"
   ]
  },
  {
   "attachments": {},
   "cell_type": "markdown",
   "metadata": {},
   "source": [
    "#### Class Probabilities"
   ]
  },
  {
   "cell_type": "code",
   "execution_count": 14,
   "metadata": {},
   "outputs": [],
   "source": [
    "# your code here\n",
    "img2_class_prob = 50/100\n",
    "img4_class_prob = 50/100"
   ]
  },
  {
   "attachments": {},
   "cell_type": "markdown",
   "metadata": {},
   "source": [
    "#### Predictions"
   ]
  },
  {
   "cell_type": "code",
   "execution_count": 15,
   "metadata": {},
   "outputs": [
    {
     "data": {
      "text/plain": [
       "array([2, 2, 2, 2, 2, 2, 2, 2, 2, 2, 2, 2, 2, 2, 2, 2, 2, 2, 2, 2, 2, 2,\n",
       "       2, 2, 2, 2, 2, 2, 2, 2, 2, 2, 2, 2, 2, 2, 2, 2, 2, 2, 2, 2, 2, 2,\n",
       "       2, 2, 2, 2, 2, 2, 4, 4, 4, 4, 4, 4, 4, 4, 4, 4, 4, 4, 4, 4, 4, 4,\n",
       "       4, 4, 4, 4, 4, 4, 4, 4, 4, 4, 4, 4, 4, 4, 4, 4, 4, 4, 4, 4, 4, 4,\n",
       "       4, 4, 4, 4, 4, 4, 4, 4, 4, 4, 4, 4])"
      ]
     },
     "execution_count": 15,
     "metadata": {},
     "output_type": "execute_result"
    }
   ],
   "source": [
    "# your code here\n",
    "pred_2 = calculate_predictions(testX, img2_one_prob, img2_zero_prob, img2_class_prob)\n",
    "pred_4 = calculate_predictions(testX, img4_one_prob, img4_zero_prob, img4_class_prob)\n",
    "test_predictions = np.where(pred_2 > pred_4, 2, 4)\n",
    "test_predictions"
   ]
  },
  {
   "attachments": {},
   "cell_type": "markdown",
   "metadata": {},
   "source": [
    "#### Overall Accuracy"
   ]
  },
  {
   "cell_type": "code",
   "execution_count": 16,
   "metadata": {},
   "outputs": [
    {
     "name": "stdout",
     "output_type": "stream",
     "text": [
      "Predicted   2   4\n",
      "Actual           \n",
      "2          50   0\n",
      "4           0  50\n",
      "\n",
      "Overall Accuracy =  1.0\n"
     ]
    }
   ],
   "source": [
    "# Your code here\n",
    "test_confusion_matrix = pd.crosstab(testY.astype(int), test_predictions, rownames=['Actual'], colnames=['Predicted'])\n",
    "print(test_confusion_matrix)\n",
    "overall_Accuracy = np.sum(np.diag(test_confusion_matrix))/np.sum(np.sum(test_confusion_matrix.values))\n",
    "print(\"\\nOverall Accuracy = \", overall_Accuracy)"
   ]
  },
  {
   "attachments": {},
   "cell_type": "markdown",
   "metadata": {},
   "source": [
    "Expected Output \n",
    "<br><br>\n",
    "**Confusion Matrix**\n",
    "<br>\n",
    "TP =  50 \tFP =  0\n",
    "<br>\n",
    "FN =  0 \tTN =  50\n",
    "<br>\n",
    "- Overall Accuracy =  1.0"
   ]
  },
  {
   "attachments": {},
   "cell_type": "markdown",
   "metadata": {},
   "source": [
    "#### Classwise Accuracy"
   ]
  },
  {
   "cell_type": "code",
   "execution_count": 17,
   "metadata": {},
   "outputs": [
    {
     "name": "stdout",
     "output_type": "stream",
     "text": [
      "Total accuracy of Testing data given class 2:  1.0\n",
      "Total accuracy of Testing data given class 4:  1.0\n"
     ]
    }
   ],
   "source": [
    "# your code here\n",
    "\n",
    "class2_test_total_accuracy = test_confusion_matrix.iloc[0,0]/np.sum(test_confusion_matrix.iloc[0])\n",
    "class4_test_total_accuracy = test_confusion_matrix.iloc[1,1]/np.sum(test_confusion_matrix.iloc[1])\n",
    "\n",
    "print(\"Total accuracy of Testing data given class 2: \", class2_test_total_accuracy)\n",
    "print(\"Total accuracy of Testing data given class 4: \", class4_test_total_accuracy)"
   ]
  },
  {
   "attachments": {},
   "cell_type": "markdown",
   "metadata": {},
   "source": [
    "Expected Output <br>\n",
    "\n",
    "- Total accuracy of Testing data given class 2:  1.0\n",
    "<br>\n",
    "- Total accuracy of Testing data given class 4:  1.0"
   ]
  },
  {
   "attachments": {},
   "cell_type": "markdown",
   "metadata": {},
   "source": [
    "### Plot your Test pixels/features in form of image to correctly identify whether our model is giving correct results"
   ]
  },
  {
   "attachments": {},
   "cell_type": "markdown",
   "metadata": {},
   "source": [
    "2 plots for each class"
   ]
  },
  {
   "cell_type": "code",
   "execution_count": 37,
   "metadata": {},
   "outputs": [
    {
     "name": "stdout",
     "output_type": "stream",
     "text": [
      "Prediction: 2\n"
     ]
    },
    {
     "data": {
      "text/plain": [
       "<matplotlib.image.AxesImage at 0x24759224590>"
      ]
     },
     "execution_count": 37,
     "metadata": {},
     "output_type": "execute_result"
    },
    {
     "data": {
      "image/png": "[encoded data removed]",
      "text/plain": [
       "<Figure size 640x480 with 1 Axes>"
      ]
     },
     "metadata": {},
     "output_type": "display_data"
    }
   ],
   "source": [
    "pred_2 = calculate_predictions(testX[0].reshape(1, -1), img2_one_prob, img2_zero_prob, img2_class_prob)\n",
    "pred_4 = calculate_predictions(testX[0].reshape(1, -1), img4_one_prob, img4_zero_prob, img4_class_prob)\n",
    "print('Prediction: 2' if pred_2 > pred_4 else 'Prediction: 4')\n",
    "testX[0].reshape(16, 16, order='F')\n",
    "plt.imshow(testX[0].reshape(16, 16, order='F'))"
   ]
  },
  {
   "cell_type": "code",
   "execution_count": 35,
   "metadata": {},
   "outputs": [
    {
     "name": "stdout",
     "output_type": "stream",
     "text": [
      "Prediction: 2\n"
     ]
    },
    {
     "data": {
      "text/plain": [
       "<matplotlib.image.AxesImage at 0x24758a8ec60>"
      ]
     },
     "execution_count": 35,
     "metadata": {},
     "output_type": "execute_result"
    },
    {
     "data": {
      "image/png": "[encoded data removed]",
      "text/plain": [
       "<Figure size 640x480 with 1 Axes>"
      ]
     },
     "metadata": {},
     "output_type": "display_data"
    }
   ],
   "source": [
    "pred_2 = calculate_predictions(testX[17].reshape(1, -1), img2_one_prob, img2_zero_prob, img2_class_prob)\n",
    "pred_4 = calculate_predictions(testX[17].reshape(1, -1), img4_one_prob, img4_zero_prob, img4_class_prob)\n",
    "print('Prediction: 2' if pred_2 > pred_4 else 'Prediction: 4')\n",
    "testX[17].reshape(16, 16, order='F')\n",
    "plt.imshow(testX[17].reshape(16, 16, order='F'))"
   ]
  },
  {
   "cell_type": "code",
   "execution_count": 32,
   "metadata": {},
   "outputs": [
    {
     "name": "stdout",
     "output_type": "stream",
     "text": [
      "Prediction: 4\n"
     ]
    },
    {
     "data": {
      "text/plain": [
       "<matplotlib.image.AxesImage at 0x24758a97890>"
      ]
     },
     "execution_count": 32,
     "metadata": {},
     "output_type": "execute_result"
    },
    {
     "data": {
      "image/png": "[encoded data removed]",
      "text/plain": [
       "<Figure size 640x480 with 1 Axes>"
      ]
     },
     "metadata": {},
     "output_type": "display_data"
    }
   ],
   "source": [
    "pred_2 = calculate_predictions(testX[52].reshape(1, -1), img2_one_prob, img2_zero_prob, img2_class_prob)\n",
    "pred_4 = calculate_predictions(testX[52].reshape(1, -1), img4_one_prob, img4_zero_prob, img4_class_prob)\n",
    "print('Prediction: 2' if pred_2 > pred_4 else 'Prediction: 4')\n",
    "testX[52].reshape(16, 16, order='F')\n",
    "plt.imshow(testX[52].reshape(16, 16, order='F'))"
   ]
  },
  {
   "cell_type": "code",
   "execution_count": 34,
   "metadata": {},
   "outputs": [
    {
     "name": "stdout",
     "output_type": "stream",
     "text": [
      "Prediction: 4\n"
     ]
    },
    {
     "data": {
      "text/plain": [
       "<matplotlib.image.AxesImage at 0x247593bfbf0>"
      ]
     },
     "execution_count": 34,
     "metadata": {},
     "output_type": "execute_result"
    },
    {
     "data": {
      "image/png": "[encoded data removed]",
      "text/plain": [
       "<Figure size 640x480 with 1 Axes>"
      ]
     },
     "metadata": {},
     "output_type": "display_data"
    }
   ],
   "source": [
    "pred_2 = calculate_predictions(testX[73].reshape(1, -1), img2_one_prob, img2_zero_prob, img2_class_prob)\n",
    "pred_4 = calculate_predictions(testX[73].reshape(1, -1), img4_one_prob, img4_zero_prob, img4_class_prob)\n",
    "print('Prediction: 2' if pred_2 > pred_4 else 'Prediction: 4')\n",
    "testX[73].reshape(16, 16, order='F')\n",
    "plt.imshow(testX[73].reshape(16, 16, order='F'))"
   ]
  },
  {
   "attachments": {},
   "cell_type": "markdown",
   "metadata": {},
   "source": [
    "Your Oppinion on the results about why naive bayes worked well for  this OCR\n",
    "and give one example where naive bayes can not be used\n"
   ]
  },
  {
   "attachments": {},
   "cell_type": "markdown",
   "metadata": {},
   "source": [
    "Solution :"
   ]
  },
  {
   "attachments": {},
   "cell_type": "markdown",
   "metadata": {},
   "source": [
    "Naive Bayes classifiers work well for Optical Character Recognition (OCR) tasks because they handle high-dimensional feature spaces efficiently. OCR tasks often involve analyzing pixel data from images, which can result in hundreds or thousands of features. Naive Bayes classifiers can handle this efficiently because they assume that all features are independent given the class. This simplifies the computation and makes the classifier fast and scalable.\n",
    "\n",
    "However, the assumption of feature independence is also a limitation of Naive Bayes classifiers. In many real-world datasets, features are not completely independent. For example, in natural language processing tasks, the meaning of a word often depends on its context. If you were to use a Naive Bayes classifier for sentiment analysis, it might not perform well because it would treat each word as independent, ignoring the context. This could lead to incorrect classifications. For instance, the phrase \"not good\" would be treated as two independent words \"not\" and \"good\", potentially leading to a positive sentiment prediction, which is incorrect."
   ]
  }
 ],
 "metadata": {
  "kernelspec": {
   "display_name": "Python 3",
   "language": "python",
   "name": "python3"
  },
  "language_info": {
   "codemirror_mode": {
    "name": "ipython",
    "version": 3
   },
   "file_extension": ".py",
   "mimetype": "text/x-python",
   "name": "python",
   "nbconvert_exporter": "python",
   "pygments_lexer": "ipython3",
   "version": "3.12.1"
  },
  "orig_nbformat": 4
 },
 "nbformat": 4,
 "nbformat_minor": 2
}

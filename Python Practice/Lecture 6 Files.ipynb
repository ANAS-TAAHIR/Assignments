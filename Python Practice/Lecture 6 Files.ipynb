{
 "cells": [
  {
   "cell_type": "markdown",
   "metadata": {},
   "source": [
    "# Contents\n",
    "## 1. Opening files\n",
    "## 2. Reading files\n",
    "## 3. Using try, except, and open\n",
    "## 4. Writing files"
   ]
  },
  {
   "cell_type": "markdown",
   "metadata": {},
   "source": [
    "# 1. Opening files"
   ]
  },
  {
   "cell_type": "code",
   "execution_count": 1,
   "metadata": {},
   "outputs": [],
   "source": [
    "fhand = open('test.txt')"
   ]
  },
  {
   "cell_type": "code",
   "execution_count": 2,
   "metadata": {},
   "outputs": [
    {
     "name": "stdout",
     "output_type": "stream",
     "text": [
      "<_io.TextIOWrapper name='test.txt' mode='r' encoding='cp1252'>\n"
     ]
    }
   ],
   "source": [
    "print (fhand)"
   ]
  },
  {
   "cell_type": "code",
   "execution_count": 3,
   "metadata": {},
   "outputs": [
    {
     "ename": "FileNotFoundError",
     "evalue": "[Errno 2] No such file or directory: 'test1.txt'",
     "output_type": "error",
     "traceback": [
      "\u001b[1;31m---------------------------------------------------------------------------\u001b[0m",
      "\u001b[1;31mFileNotFoundError\u001b[0m                         Traceback (most recent call last)",
      "Cell \u001b[1;32mIn[3], line 1\u001b[0m\n\u001b[1;32m----> 1\u001b[0m fhand \u001b[38;5;241m=\u001b[39m \u001b[38;5;28;43mopen\u001b[39;49m\u001b[43m(\u001b[49m\u001b[38;5;124;43m'\u001b[39;49m\u001b[38;5;124;43mtest1.txt\u001b[39;49m\u001b[38;5;124;43m'\u001b[39;49m\u001b[43m)\u001b[49m\n",
      "File \u001b[1;32m~\\AppData\\Roaming\\Python\\Python312\\site-packages\\IPython\\core\\interactiveshell.py:308\u001b[0m, in \u001b[0;36m_modified_open\u001b[1;34m(file, *args, **kwargs)\u001b[0m\n\u001b[0;32m    301\u001b[0m \u001b[38;5;28;01mif\u001b[39;00m file \u001b[38;5;129;01min\u001b[39;00m {\u001b[38;5;241m0\u001b[39m, \u001b[38;5;241m1\u001b[39m, \u001b[38;5;241m2\u001b[39m}:\n\u001b[0;32m    302\u001b[0m     \u001b[38;5;28;01mraise\u001b[39;00m \u001b[38;5;167;01mValueError\u001b[39;00m(\n\u001b[0;32m    303\u001b[0m         \u001b[38;5;124mf\u001b[39m\u001b[38;5;124m\"\u001b[39m\u001b[38;5;124mIPython won\u001b[39m\u001b[38;5;124m'\u001b[39m\u001b[38;5;124mt let you open fd=\u001b[39m\u001b[38;5;132;01m{\u001b[39;00mfile\u001b[38;5;132;01m}\u001b[39;00m\u001b[38;5;124m by default \u001b[39m\u001b[38;5;124m\"\u001b[39m\n\u001b[0;32m    304\u001b[0m         \u001b[38;5;124m\"\u001b[39m\u001b[38;5;124mas it is likely to crash IPython. If you know what you are doing, \u001b[39m\u001b[38;5;124m\"\u001b[39m\n\u001b[0;32m    305\u001b[0m         \u001b[38;5;124m\"\u001b[39m\u001b[38;5;124myou can use builtins\u001b[39m\u001b[38;5;124m'\u001b[39m\u001b[38;5;124m open.\u001b[39m\u001b[38;5;124m\"\u001b[39m\n\u001b[0;32m    306\u001b[0m     )\n\u001b[1;32m--> 308\u001b[0m \u001b[38;5;28;01mreturn\u001b[39;00m \u001b[43mio_open\u001b[49m\u001b[43m(\u001b[49m\u001b[43mfile\u001b[49m\u001b[43m,\u001b[49m\u001b[43m \u001b[49m\u001b[38;5;241;43m*\u001b[39;49m\u001b[43margs\u001b[49m\u001b[43m,\u001b[49m\u001b[43m \u001b[49m\u001b[38;5;241;43m*\u001b[39;49m\u001b[38;5;241;43m*\u001b[39;49m\u001b[43mkwargs\u001b[49m\u001b[43m)\u001b[49m\n",
      "\u001b[1;31mFileNotFoundError\u001b[0m: [Errno 2] No such file or directory: 'test1.txt'"
     ]
    }
   ],
   "source": [
    "fhand = open('test1.txt')"
   ]
  },
  {
   "cell_type": "markdown",
   "metadata": {},
   "source": [
    "# 2. Reading files"
   ]
  },
  {
   "cell_type": "code",
   "execution_count": 4,
   "metadata": {},
   "outputs": [
    {
     "name": "stdout",
     "output_type": "stream",
     "text": [
      "Tony Blair became \"obsessed\" with creating of bringing the UK together,\n",
      "\n",
      "their former prime minister the has revealed.\n",
      "\n",
      "Rebel Tories and Labour MPs are planning a bill to stop the UK leaving the EU on 31 October without a deal.\n",
      "\n",
      "\n",
      "\n",
      "Mr Johnson said he did not want an election, but progress with the EU would be \"impossible\" if the MPs win.\n",
      "\n",
      "\n",
      "\n",
      "Jeremy Corbyn said the Labour Party was ready for a general election.\n",
      "\n",
      "\n",
      "\n",
      "But shadow Northern Ireland secretary Tony Lloyd later said Labour would vote against any government plans to hold a general election before the UK is due to leave the EU on 31 October.\n",
      "\n",
      "\n",
      "\n",
      "He said Labour \"will not have Boris Johnson dictate the terms of an election that crashes this country out with no deal\".\n",
      "\n",
      "Line Count: 11\n"
     ]
    }
   ],
   "source": [
    "# counting no of line\n",
    "fhand = open('test.txt')\n",
    "count = 0\n",
    "for line in fhand:\n",
    "    print (line)\n",
    "    count = count + 1\n",
    "print ('Line Count:', count)"
   ]
  },
  {
   "cell_type": "code",
   "execution_count": 5,
   "metadata": {},
   "outputs": [
    {
     "data": {
      "text/plain": [
       "716"
      ]
     },
     "execution_count": 5,
     "metadata": {},
     "output_type": "execute_result"
    }
   ],
   "source": [
    "fhand = open('test.txt')\n",
    "inp = fhand.read()\n",
    "len(inp)"
   ]
  },
  {
   "cell_type": "code",
   "execution_count": 6,
   "metadata": {},
   "outputs": [
    {
     "data": {
      "text/plain": [
       "'Tony Blair'"
      ]
     },
     "execution_count": 6,
     "metadata": {},
     "output_type": "execute_result"
    }
   ],
   "source": [
    "inp[:10]"
   ]
  },
  {
   "cell_type": "code",
   "execution_count": 1,
   "metadata": {},
   "outputs": [
    {
     "name": "stdout",
     "output_type": "stream",
     "text": [
      "Not Found\n",
      "Not Found\n",
      "Not Found\n",
      "Not Found\n",
      "Not Found\n",
      "Not Found\n",
      "Not Found\n",
      "Not Found\n",
      "But shadow Northern Ireland secretary Tony Lloyd later said Labour would vote against any government plans to hold a general election before the UK is due to leave the EU on 31 October.\n",
      "Not Found\n",
      "Not Found\n"
     ]
    }
   ],
   "source": [
    "  # write aprogram that looks for the string \"leave\" in each line of he file \"test.txt\" and prints found if string is found in that lineor not found if string is not found in that line.\n",
    "fhand = open('test.txt')\n",
    "for line in fhand:\n",
    "    line = line.rstrip()\n",
    "    if line.find('leave') >= 0:\n",
    "        print (line)\n",
    "    else:\n",
    "        print ('Not Found')"
   ]
  },
  {
   "cell_type": "code",
   "execution_count": 2,
   "metadata": {},
   "outputs": [
    {
     "name": "stdout",
     "output_type": "stream",
     "text": [
      "Tony Blair\n",
      "their form\n",
      "Rebel Tori\n",
      "\n",
      "\n",
      "Mr Johnson\n",
      "\n",
      "\n",
      "Jeremy Cor\n",
      "\n",
      "\n",
      "But shadow\n",
      "\n",
      "\n",
      "He said La\n",
      "Line Count: 11\n"
     ]
    }
   ],
   "source": [
    "# write a program that allows you to read a file upto 10 characters.\n",
    "fhand = open('test.txt')\n",
    "count = 0\n",
    "for line in fhand:\n",
    "    print (line[:10])\n",
    "    count = count + 1\n",
    "print ('Line Count:', count)"
   ]
  },
  {
   "cell_type": "code",
   "execution_count": 3,
   "metadata": {},
   "outputs": [
    {
     "name": "stdout",
     "output_type": "stream",
     "text": [
      "TONY BLAIR BECAME \"OBSESSED\" WITH CREATING OF BRINGING THE UK TOGETHER,\n",
      "THEIR FORMER PRIME MINISTER THE HAS REVEALED.\n",
      "REBEL TORIES AND LABOUR MPS ARE PLANNING A BILL TO STOP THE UK LEAVING THE EU ON 31 OCTOBER WITHOUT A DEAL.\n",
      "\n",
      "MR JOHNSON SAID HE DID NOT WANT AN ELECTION, BUT PROGRESS WITH THE EU WOULD BE \"IMPOSSIBLE\" IF THE MPS WIN.\n",
      "\n",
      "JEREMY CORBYN SAID THE LABOUR PARTY WAS READY FOR A GENERAL ELECTION.\n",
      "\n",
      "BUT SHADOW NORTHERN IRELAND SECRETARY TONY LLOYD LATER SAID LABOUR WOULD VOTE AGAINST ANY GOVERNMENT PLANS TO HOLD A GENERAL ELECTION BEFORE THE UK IS DUE TO LEAVE THE EU ON 31 OCTOBER.\n",
      "\n",
      "HE SAID LABOUR \"WILL NOT HAVE BORIS JOHNSON DICTATE THE TERMS OF AN ELECTION THAT CRASHES THIS COUNTRY OUT WITH NO DEAL\".\n",
      "\n"
     ]
    }
   ],
   "source": [
    "# write a program to read a file and print the contents of the file in upper case\n",
    "fhand = open('test.txt')\n",
    "inp = fhand.read()\n",
    "print (inp.upper())"
   ]
  },
  {
   "cell_type": "code",
   "execution_count": 4,
   "metadata": {},
   "outputs": [
    {
     "name": "stdout",
     "output_type": "stream",
     "text": [
      "Tony Blair became \"obsessed\" with creating of bringing the UK together,\n",
      "\n",
      "their former prime minister the has revealed.\n",
      "\n"
     ]
    }
   ],
   "source": [
    "# write a program that opens and prints the first two lines of the file \"test.txt\"\n",
    "fhand = open('test.txt')\n",
    "count = 0\n",
    "for line in fhand:\n",
    "    if count < 2:\n",
    "        print (line)\n",
    "        count = count + 1\n",
    "    else:\n",
    "        break"
   ]
  },
  {
   "cell_type": "markdown",
   "metadata": {},
   "source": [
    "# 3. Using try, except, and open"
   ]
  },
  {
   "cell_type": "code",
   "execution_count": 5,
   "metadata": {},
   "outputs": [
    {
     "name": "stdout",
     "output_type": "stream",
     "text": [
      "File cannot be opened: bsdsf21m028.txt\n",
      "There were 8  lines in bsdsf21m028.txt\n"
     ]
    },
    {
     "ename": "",
     "evalue": "",
     "output_type": "error",
     "traceback": [
      "\u001b[1;31mThe Kernel crashed while executing code in the current cell or a previous cell. \n",
      "\u001b[1;31mPlease review the code in the cell(s) to identify a possible cause of the failure. \n",
      "\u001b[1;31mClick <a href='https://aka.ms/vscodeJupyterKernelCrash'>here</a> for more info. \n",
      "\u001b[1;31mView Jupyter <a href='command:jupyter.viewOutput'>log</a> for further details."
     ]
    }
   ],
   "source": [
    "fname = input('Enter the file name: ')\n",
    "#fname = 'test.txt'\n",
    "try:\n",
    "    fhand = open(fname)\n",
    "except:\n",
    "    print ('File cannot be opened:', fname)\n",
    "    exit()\n",
    "count = 0\n",
    "for line in fhand:\n",
    "    #if line.startswith('Subject:') :\n",
    "    count = count + 1\n",
    "print ('There were', count, ' lines in', fname)"
   ]
  },
  {
   "cell_type": "markdown",
   "metadata": {},
   "source": [
    "# 4. Writing files"
   ]
  },
  {
   "cell_type": "code",
   "execution_count": 1,
   "metadata": {
    "collapsed": true,
    "jupyter": {
     "outputs_hidden": true
    }
   },
   "outputs": [],
   "source": [
    "fout = open('output.txt', 'w')"
   ]
  },
  {
   "cell_type": "code",
   "execution_count": 2,
   "metadata": {
    "collapsed": true,
    "jupyter": {
     "outputs_hidden": true
    }
   },
   "outputs": [],
   "source": [
    "line1 = \"This here's the wattle,\\n\"\n",
    "fout.write(line1)\n",
    "fout.close()"
   ]
  },
  {
   "cell_type": "code",
   "execution_count": 3,
   "metadata": {
    "collapsed": true,
    "jupyter": {
     "outputs_hidden": true
    }
   },
   "outputs": [],
   "source": [
    "s = '1 2\\t 3\\n 4'"
   ]
  },
  {
   "cell_type": "code",
   "execution_count": 4,
   "metadata": {},
   "outputs": [
    {
     "name": "stdout",
     "output_type": "stream",
     "text": [
      "1 2\t 3\n",
      " 4\n"
     ]
    }
   ],
   "source": [
    "print(s)"
   ]
  },
  {
   "cell_type": "code",
   "execution_count": 5,
   "metadata": {},
   "outputs": [
    {
     "name": "stdout",
     "output_type": "stream",
     "text": [
      "'1 2\\t 3\\n 4'\n"
     ]
    }
   ],
   "source": [
    "print (repr(s))"
   ]
  },
  {
   "cell_type": "code",
   "execution_count": 6,
   "metadata": {},
   "outputs": [
    {
     "data": {
      "text/plain": [
       "'1 2\\t 3\\n 4'"
      ]
     },
     "execution_count": 6,
     "metadata": {},
     "output_type": "execute_result"
    }
   ],
   "source": [
    "s"
   ]
  },
  {
   "cell_type": "code",
   "execution_count": 7,
   "metadata": {
    "collapsed": true,
    "jupyter": {
     "outputs_hidden": true
    }
   },
   "outputs": [
    {
     "data": {
      "text/plain": [
       "16"
      ]
     },
     "execution_count": 7,
     "metadata": {},
     "output_type": "execute_result"
    }
   ],
   "source": [
    "# Write a program that open and read the file after appending text to a file\n",
    "fout = open('output.txt', 'a')\n",
    "line1 = \"Batman is back,\\n\"\n",
    "fout.write(line1)"
   ]
  }
 ],
 "metadata": {
  "kernelspec": {
   "display_name": "Python 3 (ipykernel)",
   "language": "python",
   "name": "python3"
  },
  "language_info": {
   "codemirror_mode": {
    "name": "ipython",
    "version": 3
   },
   "file_extension": ".py",
   "mimetype": "text/x-python",
   "name": "python",
   "nbconvert_exporter": "python",
   "pygments_lexer": "ipython3",
   "version": "3.12.0"
  }
 },
 "nbformat": 4,
 "nbformat_minor": 4
}

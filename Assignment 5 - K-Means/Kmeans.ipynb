{
 "cells": [
  {
   "cell_type": "markdown",
   "id": "2cce18a7",
   "metadata": {},
   "source": [
    "## IMPORT LIBRARIES"
   ]
  },
  {
   "cell_type": "code",
   "execution_count": null,
   "id": "9c0c2434",
   "metadata": {},
   "outputs": [],
   "source": [
    "import numpy as np\n",
    "import cv2\n",
    "import cv2\n",
    "import matplotlib.pyplot as plt"
   ]
  },
  {
   "cell_type": "markdown",
   "id": "cf1d6839",
   "metadata": {},
   "source": [
    "## IMAGES"
   ]
  },
  {
   "cell_type": "code",
   "execution_count": null,
   "id": "0b968b77",
   "metadata": {},
   "outputs": [],
   "source": []
  },
  {
   "cell_type": "code",
   "execution_count": null,
   "id": "b8bc98e7",
   "metadata": {},
   "outputs": [],
   "source": [
    "# Function to compute Euclidean distance between two sets of points\n",
    "def euclidean_distance(X, Y):\n",
    "    return np.sqrt(np.sum((X[:, None] - Y) ** 2, axis=-1))\n",
    "\n",
    "# Function to initialize centroids randomly\n",
    "def initialize_centroids(data, k):\n",
    "    centroids_indices = np.random.choice(data.shape[0], k, replace=False)\n",
    "    centroids = data[centroids_indices]\n",
    "    return centroids\n",
    "\n",
    "# Function to perform K-Means clustering\n",
    "def kmeans(data, k, max_iterations=100):\n",
    "    centroids = initialize_centroids(data, k)\n",
    "    \n",
    "    for _ in range(max_iterations):\n",
    "        # Assign each data point to the nearest centroid\n",
    "        distances = euclidean_distance(data, centroids)\n",
    "        labels = np.argmin(distances, axis=1)\n",
    "        \n",
    "        # Update centroids\n",
    "        new_centroids = np.array([data[labels == i].mean(axis=0) for i in range(k)])\n",
    "        \n",
    "        # Check for convergence\n",
    "        if np.allclose(centroids, new_centroids):\n",
    "            break\n",
    "        \n",
    "        centroids = new_centroids\n",
    "    \n",
    "    return centroids, labels\n",
    "\n",
    "# Function to read an image as a 3D NumPy array\n",
    "def read_image(image_path):\n",
    "    image_array = cv2.imread(image_path)\n",
    "    return image_array\n",
    "\n",
    "# Read three images as 3D NumPy arrays\n",
    "image1 = cv2.imread('aaapica.jpeg')\n",
    "image2 = cv2.imread('ssspicb.jpeg')\n",
    "image3 = cv2.imread('aaapicc.jpeg')\n",
    "\n",
    "# Apply K-Means clustering to each image\n",
    "k_values = [3, 10, 20]\n",
    "for k in k_values:\n",
    "    # Flatten each image into a 2D array\n",
    "    flattened_image1 = image1.reshape(-1, 3)\n",
    "    flattened_image2 = image2.reshape(-1, 3)\n",
    "    flattened_image3 = image3.reshape(-1, 3)\n",
    "    \n",
    "    # Apply K-Means clustering\n",
    "    centroids1, labels1 = kmeans(flattened_image1, k)\n",
    "    centroids2, labels2 = kmeans(flattened_image2, k)\n",
    "    centroids3, labels3 = kmeans(flattened_image3, k)\n",
    "    \n",
    "    # Reconstruct clustered images\n",
    "    clustered_image1 = centroids1[labels1].reshape(image1.shape)\n",
    "    clustered_image2 = centroids2[labels2].reshape(image2.shape)\n",
    "    clustered_image3 = centroids3[labels3].reshape(image3.shape)\n",
    "    \n",
    "    # Display the clustered images\n",
    "    plt.figure(figsize=(10, 5))\n",
    "    plt.subplot(1, 3, 1)\n",
    "    plt.imshow(cv2.cvtColor(clustered_image1.astype(np.uint8), cv2.COLOR_BGR2RGB))\n",
    "    plt.title('Image 1 (K={})'.format(k))\n",
    "    plt.axis('off')\n",
    "    \n",
    "    plt.subplot(1, 3, 2)\n",
    "    plt.imshow(cv2.cvtColor(clustered_image2.astype(np.uint8), cv2.COLOR_BGR2RGB))\n",
    "    plt.title('Image 2 (K={})'.format(k))\n",
    "    plt.axis('off')\n",
    "    \n",
    "    plt.subplot(1, 3, 3)\n",
    "    plt.imshow(cv2.cvtColor(clustered_image3.astype(np.uint8), cv2.COLOR_BGR2RGB))\n",
    "    plt.title('Image 3 (K={})'.format(k))\n",
    "    plt.axis('off')\n",
    "    \n",
    "    plt.show()\n"
   ]
  }
 ],
 "metadata": {
  "kernelspec": {
   "display_name": "Python 3 (ipykernel)",
   "language": "python",
   "name": "python3"
  },
  "language_info": {
   "codemirror_mode": {
    "name": "ipython",
    "version": 3
   },
   "file_extension": ".py",
   "mimetype": "text/x-python",
   "name": "python",
   "nbconvert_exporter": "python",
   "pygments_lexer": "ipython3",
   "version": "3.10.10"
  }
 },
 "nbformat": 4,
 "nbformat_minor": 5
}
